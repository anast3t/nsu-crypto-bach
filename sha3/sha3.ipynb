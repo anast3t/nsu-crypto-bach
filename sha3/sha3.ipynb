{
 "cells": [
  {
   "cell_type": "markdown",
   "source": [
    "# SHA3-256"
   ],
   "metadata": {
    "collapsed": false
   }
  },
  {
   "cell_type": "markdown",
   "source": [
    "Чтение входного файла"
   ],
   "metadata": {
    "collapsed": false
   }
  },
  {
   "cell_type": "code",
   "execution_count": 1,
   "outputs": [
    {
     "name": "stdout",
     "output_type": "stream",
     "text": [
      "Размер входа: 2508587 байт\n"
     ]
    }
   ],
   "source": [
    "#file = open('input.txt', 'rb')\n",
    "#file = open('./img/img.png', 'rb')\n",
    "file = open('./img/large.jpg', 'rb')\n",
    "\n",
    "BAinput = bytearray(file.read())\n",
    "print(f'Размер входа: {str(len(BAinput))} байт')\n",
    "file.close()"
   ],
   "metadata": {
    "collapsed": false
   }
  },
  {
   "cell_type": "markdown",
   "source": [
    "Константы для вычислений (premutations widths and quataties)"
   ],
   "metadata": {
    "collapsed": false
   }
  },
  {
   "cell_type": "markdown",
   "source": [
    "![title](img/img.png)"
   ],
   "metadata": {
    "collapsed": false
   }
  },
  {
   "cell_type": "code",
   "execution_count": 2,
   "outputs": [],
   "source": [
    "b = 1600  # размер состояния (5 * 5 * 64)\n",
    "r = 1088  # rate\n",
    "l = 6\n",
    "capacity = b - r\n",
    "nrounds = 12 + 2 * l  # количество раундов вычислений\n"
   ],
   "metadata": {
    "collapsed": false
   }
  },
  {
   "cell_type": "markdown",
   "source": [
    "Функция дополнения"
   ],
   "metadata": {
    "collapsed": false
   }
  },
  {
   "cell_type": "code",
   "execution_count": 3,
   "outputs": [],
   "source": [
    "q = r - (len(BAinput) * 8 % r)\n",
    "if q == 0:\n",
    "    BAinput.append(l)\n",
    "    for i in range(1, r // 8 - 1):\n",
    "        BAinput.append(0b00000000)\n",
    "    BAinput.append(0x80)\n",
    "elif q == 8:\n",
    "    BAinput.append(l ^ 0x80)\n",
    "elif q == 16:\n",
    "    BAinput.append(l)\n",
    "    BAinput.append(0x80)\n",
    "else:\n",
    "    BAinput.append(l)\n",
    "    for i in range(1, q // 8 - 1):\n",
    "        BAinput.append(0b00000000)\n",
    "    BAinput.append(0x80)"
   ],
   "metadata": {
    "collapsed": false
   }
  },
  {
   "cell_type": "markdown",
   "source": [
    "Определяем количество блоков"
   ],
   "metadata": {
    "collapsed": false
   }
  },
  {
   "cell_type": "code",
   "execution_count": 4,
   "outputs": [
    {
     "name": "stdout",
     "output_type": "stream",
     "text": [
      "18446\n"
     ]
    }
   ],
   "source": [
    "blocksTotal = (len(BAinput) * 8) // r\n",
    "print(blocksTotal)"
   ],
   "metadata": {
    "collapsed": false
   }
  },
  {
   "cell_type": "markdown",
   "source": [
    "Константы раундов и матрица вращений (rotation offsets)"
   ],
   "metadata": {
    "collapsed": false
   }
  },
  {
   "cell_type": "code",
   "execution_count": 5,
   "outputs": [],
   "source": [
    "RC = [0 for i in range(24)]\n",
    "RC[0] = 0x0000000000000001\n",
    "RC[1] = 0x0000000000008082\n",
    "RC[2] = 0x800000000000808A\n",
    "RC[3] = 0x8000000080008000\n",
    "RC[4] = 0x000000000000808B\n",
    "RC[5] = 0x0000000080000001\n",
    "RC[6] = 0x8000000080008081\n",
    "RC[7] = 0x8000000000008009\n",
    "RC[8] = 0x000000000000008A\n",
    "RC[9] = 0x0000000000000088\n",
    "RC[10] = 0x0000000080008009\n",
    "RC[11] = 0x000000008000000A\n",
    "RC[12] = 0x000000008000808B\n",
    "RC[13] = 0x800000000000008B\n",
    "RC[14] = 0x8000000000008089\n",
    "RC[15] = 0x8000000000008003\n",
    "RC[16] = 0x8000000000008002\n",
    "RC[17] = 0x8000000000000080\n",
    "RC[18] = 0x000000000000800A\n",
    "RC[19] = 0x800000008000000A\n",
    "RC[20] = 0x8000000080008081\n",
    "RC[21] = 0x8000000000008080\n",
    "RC[22] = 0x0000000080000001\n",
    "RC[23] = 0x8000000080008008\n",
    "\n",
    "rotat = [[0, 36, 3, 41, 18],\n",
    "         [1, 44, 10, 45, 2],\n",
    "         [62, 6, 43, 15, 61],\n",
    "         [28, 55, 25, 21, 56],\n",
    "         [27, 20, 39, 8, 14]]"
   ],
   "metadata": {
    "collapsed": false
   }
  },
  {
   "cell_type": "markdown",
   "source": [
    "Функция вращения (двигаем переменную a на n бит)"
   ],
   "metadata": {
    "collapsed": false
   }
  },
  {
   "cell_type": "code",
   "execution_count": 6,
   "outputs": [],
   "source": [
    "def rot(a, n, total=64):\n",
    "    b = a << n\n",
    "    m = 1 << total\n",
    "    c = b % m\n",
    "    d = a >> (total - n)\n",
    "    res = c | d\n",
    "    return res"
   ],
   "metadata": {
    "collapsed": false
   }
  },
  {
   "cell_type": "markdown",
   "source": [
    "# Шаги для функции перестановки"
   ],
   "metadata": {
    "collapsed": false
   }
  },
  {
   "cell_type": "code",
   "execution_count": 7,
   "outputs": [],
   "source": [
    "def printLine():\n",
    "    print(\"-----------------------\")"
   ],
   "metadata": {
    "collapsed": false
   }
  },
  {
   "cell_type": "markdown",
   "source": [
    "Шаг тетта"
   ],
   "metadata": {
    "collapsed": false
   }
  },
  {
   "cell_type": "code",
   "execution_count": 8,
   "outputs": [],
   "source": [
    "def theta(A):\n",
    "    C = []\n",
    "    for x in range(5):\n",
    "        C.append(A[x][0] ^ A[x][1] ^ A[x][2] ^ A[x][3] ^ A[x][4])\n",
    "    D = [0, 0, 0, 0, 0]\n",
    "    for x in range(5):\n",
    "        D[x] = C[(x - 1) % 5] ^ rot(C[(x + 1) % 5], 1)\n",
    "    for x in range(5):\n",
    "        for y in range(5):\n",
    "            A[x][y] ^= D[x]\n",
    "    #printLine()\n",
    "    #print(\"результат тетта\\nA =\", A, '\\nC =', C)\n",
    "    #printLine()\n",
    "    return A, C"
   ],
   "metadata": {
    "collapsed": false
   }
  },
  {
   "cell_type": "markdown",
   "source": [
    "Шаг ро и пи"
   ],
   "metadata": {
    "collapsed": false
   }
  },
  {
   "cell_type": "code",
   "execution_count": 9,
   "outputs": [],
   "source": [
    "def rho_pi(argsAC):\n",
    "    A, C = argsAC\n",
    "    B = []\n",
    "    for i in range(5):\n",
    "        B.append([0, 0, 0, 0, 0])\n",
    "    for x in range(5):\n",
    "        for y in range(5):\n",
    "            B[y][(2 * x + 3 * y) % 5] = rot(A[x][y], rotat[x][y])\n",
    "    #print(\"Результат ро пи\\nA =\", A, '\\nC =', C, '\\nB =', B)\n",
    "    #printLine()\n",
    "    return A, B, C"
   ],
   "metadata": {
    "collapsed": false
   }
  },
  {
   "cell_type": "markdown",
   "source": [
    "Шаг чи"
   ],
   "metadata": {
    "collapsed": false
   }
  },
  {
   "cell_type": "code",
   "execution_count": 10,
   "outputs": [],
   "source": [
    "def chi(argsABC):\n",
    "    A, B, C = argsABC\n",
    "    for x in range(5):\n",
    "        for y in range(5):\n",
    "            A[x][y] = B[x][y] ^ ((~B[(x + 1) % 5][y]) & B[(x + 2) % 5][y])\n",
    "    #print(\"Результат чи\\nA =\", A)\n",
    "    #printLine()\n",
    "    return A"
   ],
   "metadata": {
    "collapsed": false
   }
  },
  {
   "cell_type": "markdown",
   "source": [
    "Шаг йота"
   ],
   "metadata": {
    "collapsed": false
   }
  },
  {
   "cell_type": "code",
   "execution_count": 11,
   "outputs": [],
   "source": [
    "def iota(argsA, iteration):\n",
    "    argsA[0][0] ^= RC[iteration]\n",
    "    #print(\"Результат йота\\nA =\", argsA)\n",
    "    #printLine()\n",
    "    return argsA"
   ],
   "metadata": {
    "collapsed": false
   }
  },
  {
   "cell_type": "markdown",
   "source": [
    "Функция перестановки"
   ],
   "metadata": {
    "collapsed": false
   }
  },
  {
   "cell_type": "code",
   "execution_count": 12,
   "outputs": [],
   "source": [
    "def f(A, iterations_number=24):\n",
    "    for iteration in range(0, iterations_number):\n",
    "        #print(\"раунд\", iteration)\n",
    "        #print(\"A = \", A)\n",
    "        A = iota(\n",
    "            chi(\n",
    "                rho_pi(\n",
    "                    theta(A)\n",
    "                )\n",
    "            ),\n",
    "            iteration\n",
    "        )\n",
    "\n",
    "    return A"
   ],
   "metadata": {
    "collapsed": false
   }
  },
  {
   "cell_type": "markdown",
   "source": [
    "Отжимка и возврат"
   ],
   "metadata": {
    "collapsed": false
   }
  },
  {
   "cell_type": "markdown",
   "source": [
    "![title](img/img_1.png)"
   ],
   "metadata": {
    "collapsed": false
   }
  },
  {
   "cell_type": "code",
   "execution_count": 13,
   "outputs": [
    {
     "name": "stdout",
     "output_type": "stream",
     "text": [
      "SHA3-256:0469867610a7b89e0bb133ceffff1307d54d135b01a719ac689100fd05229421\n"
     ]
    }
   ],
   "source": [
    "state = []\n",
    "for blockId in range(0, blocksTotal):\n",
    "    blockBytes = BAinput[blockId * (r // 8): (blockId + 1) * (r // 8)]\n",
    "    block = []\n",
    "    for start in range(0, r // 8, 8):\n",
    "        block.append(int.from_bytes(blockBytes[start: start + 8], \"little\", signed=False))\n",
    "    for start in range(r // 8, b // 8, 8):\n",
    "        block.append(0)\n",
    "    block = [block[i:21 + i:5] for i in range(0, 5)]\n",
    "    if blockId != 0:\n",
    "        for i in range(5):\n",
    "            for j in range(5):\n",
    "                state[i][j] ^= block[i][j]\n",
    "    else:\n",
    "        state = block\n",
    "    state = f(state)\n",
    "\n",
    "res = 0\n",
    "for i in range(4):\n",
    "    res |= state[i][0] << (i * 64)\n",
    "\n",
    "print(\"SHA3-256:\" + res.to_bytes(32, \"little\").hex())"
   ],
   "metadata": {
    "collapsed": false
   }
  }
 ],
 "metadata": {
  "kernelspec": {
   "display_name": "Python 3",
   "language": "python",
   "name": "python3"
  },
  "language_info": {
   "codemirror_mode": {
    "name": "ipython",
    "version": 2
   },
   "file_extension": ".py",
   "mimetype": "text/x-python",
   "name": "python",
   "nbconvert_exporter": "python",
   "pygments_lexer": "ipython2",
   "version": "2.7.6"
  }
 },
 "nbformat": 4,
 "nbformat_minor": 0
}
