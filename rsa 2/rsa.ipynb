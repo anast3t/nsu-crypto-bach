{
 "cells": [
  {
   "cell_type": "markdown",
   "source": [
    "# Бортников Павел Павлович 20215 RSA"
   ],
   "metadata": {
    "collapsed": false
   }
  },
  {
   "cell_type": "code",
   "execution_count": 20,
   "metadata": {
    "collapsed": true
   },
   "outputs": [],
   "source": [
    "import random\n",
    "from math import gcd\n",
    "import rsa.core as core\n",
    "from hashlib import sha256"
   ]
  },
  {
   "cell_type": "markdown",
   "source": [
    "### Получение простого чисел"
   ],
   "metadata": {
    "collapsed": false
   }
  },
  {
   "cell_type": "markdown",
   "source": [
    "Символ Якоби"
   ],
   "metadata": {
    "collapsed": false
   }
  },
  {
   "cell_type": "code",
   "execution_count": 21,
   "outputs": [],
   "source": [
    "def j(a, b):\n",
    "    if a == 1:\n",
    "        return 1\n",
    "    if a % 2 == 0:\n",
    "        return j(a // 2, b) * (-1) ** (((b * b - 1) // 8) % 2)\n",
    "    else:\n",
    "        return j(b % a, a) * (-1) ** (((a - 1) * (b - 1) // 4) % 2)"
   ],
   "metadata": {
    "collapsed": false
   }
  },
  {
   "cell_type": "markdown",
   "source": [
    "Вероятностная проверка простоты числа"
   ],
   "metadata": {
    "collapsed": false
   }
  },
  {
   "cell_type": "code",
   "execution_count": 22,
   "outputs": [],
   "source": [
    "def is_prime(b):\n",
    "    for i in range(100):\n",
    "        a = random.randint(1, b - 1)\n",
    "        if not (b % 2 == 1 and gcd(a, b) == 1 and (j(a, b) + b) % b == pow(a, (b - 1) // 2, b)):\n",
    "            return False\n",
    "    return True"
   ],
   "metadata": {
    "collapsed": false
   }
  },
  {
   "cell_type": "markdown",
   "source": [
    "Генерация простого числа"
   ],
   "metadata": {
    "collapsed": false
   }
  },
  {
   "cell_type": "code",
   "execution_count": 23,
   "outputs": [],
   "source": [
    "def random_prime(a, b):\n",
    "    n = random.randint(a, b)\n",
    "    while not is_prime(n):\n",
    "        n = random.randint(a, b)\n",
    "    return n"
   ],
   "metadata": {
    "collapsed": false
   }
  },
  {
   "cell_type": "markdown",
   "source": [
    "Генерация пары простых чисел"
   ],
   "metadata": {
    "collapsed": false
   }
  },
  {
   "cell_type": "code",
   "execution_count": 24,
   "outputs": [],
   "source": [
    "def gen_primes(a, b):\n",
    "    u = random_prime(a, b)\n",
    "    v = random_prime(a, b)\n",
    "    return u, v\n"
   ],
   "metadata": {
    "collapsed": false
   }
  },
  {
   "cell_type": "markdown",
   "source": [
    "-------------------------------"
   ],
   "metadata": {
    "collapsed": false
   }
  },
  {
   "cell_type": "markdown",
   "source": [
    "Расширенный алгоритм Евклида — расширение алгоритма Евклида, которое вычисляет кроме наибольшего общего делителя (НОД) целых чисел a и b ещё и коэффициенты соотношения Безу\n",
    "\n",
    "Коэффициенты Безу - представление наибольшего общего делителя целых чисел в виде их линейной комбинации с целыми коэффициентами"
   ],
   "metadata": {
    "collapsed": false
   }
  },
  {
   "cell_type": "code",
   "execution_count": 25,
   "outputs": [],
   "source": [
    "def egcd(a, b):\n",
    "    if a == 0:\n",
    "        return b, 0, 1\n",
    "    else:\n",
    "        g, y, x = egcd(b % a, a)\n",
    "        return g, x - (b // a) * y, y"
   ],
   "metadata": {
    "collapsed": false
   }
  },
  {
   "cell_type": "markdown",
   "source": [
    "Обратное по модулю целого a — это такое целое число x, что произведение ax сравнимо с 1 по модулю m"
   ],
   "metadata": {
    "collapsed": false
   }
  },
  {
   "cell_type": "code",
   "execution_count": 26,
   "outputs": [],
   "source": [
    "def mod_inv(a, m):\n",
    "    g, x, y = egcd(a, m)\n",
    "    if g != 1:\n",
    "        raise Exception('modular inverse does not exist')\n",
    "    else:\n",
    "        return (x + m) % m"
   ],
   "metadata": {
    "collapsed": false
   }
  },
  {
   "cell_type": "markdown",
   "source": [
    "----------------------------------"
   ],
   "metadata": {
    "collapsed": false
   }
  },
  {
   "cell_type": "markdown",
   "source": [
    "Генерация ключей"
   ],
   "metadata": {
    "collapsed": false
   }
  },
  {
   "cell_type": "code",
   "execution_count": 27,
   "outputs": [],
   "source": [
    "def gen_keys(key_size=128):\n",
    "    p, q = gen_primes(1 << (key_size // 2 - 1), (1 << key_size // 2) - 1)\n",
    "\n",
    "    n = p * q\n",
    "    phi = (p - 1) * (q - 1)\n",
    "    d = random_prime(max(p, q) + 1, n)\n",
    "    e = mod_inv(d, phi)\n",
    "    return (e, n), (d, n)"
   ],
   "metadata": {
    "collapsed": false
   }
  },
  {
   "cell_type": "markdown",
   "source": [
    "Основной функционал"
   ],
   "metadata": {
    "collapsed": false
   }
  },
  {
   "cell_type": "code",
   "execution_count": 28,
   "outputs": [],
   "source": [
    "def encrypt(number, public_key):\n",
    "    e, n = public_key\n",
    "    return pow(number, e, n)\n",
    "\n",
    "\n",
    "def decrypt(number, private_key):\n",
    "    d, n = private_key\n",
    "    return pow(number, d, n)"
   ],
   "metadata": {
    "collapsed": false
   }
  },
  {
   "cell_type": "markdown",
   "source": [
    "---------------------------------"
   ],
   "metadata": {
    "collapsed": false
   }
  },
  {
   "cell_type": "markdown",
   "source": [
    "### Тестирование"
   ],
   "metadata": {
    "collapsed": false
   }
  },
  {
   "cell_type": "code",
   "execution_count": 29,
   "outputs": [],
   "source": [
    "public, private = gen_keys(128)\n",
    "e, n = public\n",
    "d, n = private\n",
    "test1 = 1234567890"
   ],
   "metadata": {
    "collapsed": false
   }
  },
  {
   "cell_type": "code",
   "execution_count": 33,
   "outputs": [
    {
     "name": "stdout",
     "output_type": "stream",
     "text": [
      "35120103679007659543258495041308750003\n",
      "35120103679007659543258495041308750003\n",
      "1234567890\n",
      "1234567890\n"
     ]
    }
   ],
   "source": [
    "enc_my = encrypt(test1, public)\n",
    "enc_stock = core.encrypt_int(test1, e, n)\n",
    "\n",
    "print(enc_my)\n",
    "print(enc_stock)\n",
    "\n",
    "dec_my = decrypt(enc_my, private)\n",
    "dec_stock = core.decrypt_int(enc_stock, d, n)\n",
    "\n",
    "print(dec_my)\n",
    "print(dec_stock)\n"
   ],
   "metadata": {
    "collapsed": false
   }
  },
  {
   "cell_type": "markdown",
   "source": [
    "Для подписания документа формально всё то же самое, только вставлять мы будем хэш, приведенный к инту."
   ],
   "metadata": {
    "collapsed": false
   }
  },
  {
   "cell_type": "code",
   "execution_count": null,
   "outputs": [],
   "source": [],
   "metadata": {
    "collapsed": false
   }
  }
 ],
 "metadata": {
  "kernelspec": {
   "display_name": "Python 3",
   "language": "python",
   "name": "python3"
  },
  "language_info": {
   "codemirror_mode": {
    "name": "ipython",
    "version": 2
   },
   "file_extension": ".py",
   "mimetype": "text/x-python",
   "name": "python",
   "nbconvert_exporter": "python",
   "pygments_lexer": "ipython2",
   "version": "2.7.6"
  }
 },
 "nbformat": 4,
 "nbformat_minor": 0
}
