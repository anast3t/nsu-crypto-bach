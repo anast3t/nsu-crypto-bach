{
 "cells": [
  {
   "cell_type": "code",
   "execution_count": 1,
   "metadata": {
    "collapsed": true
   },
   "outputs": [],
   "source": [
    "import pandas as pd"
   ]
  },
  {
   "cell_type": "code",
   "execution_count": 22,
   "outputs": [
    {
     "name": "stderr",
     "output_type": "stream",
     "text": [
      "/var/folders/tt/nr_wg20d5q13z6kxlpj2xsyc0000gn/T/ipykernel_8615/3834250483.py:3: FutureWarning: Dropping invalid columns in DataFrameGroupBy.transform is deprecated. In a future version, a TypeError will be raised. Before calling .transform, select only columns which should be valid for the function.\n",
      "  dataClean = data.set_index(\"Seller\").groupby(\"Seller\").transform(lambda x: ', '.join(x)).drop_duplicates().sort_index()\n"
     ]
    }
   ],
   "source": [
    "data = pd.read_csv(\"Device Information.csv\")\n",
    "# dataClean = data.iloc[:, 1:].set_index(\"Seller\").sort_index()\n",
    "dataClean = data.set_index(\"Seller\").groupby(\"Seller\").transform(lambda x: ', '.join(x)).drop_duplicates().sort_index()"
   ],
   "metadata": {
    "collapsed": false
   }
  },
  {
   "cell_type": "code",
   "execution_count": 23,
   "outputs": [],
   "source": [
    "dataClean.to_csv(\"AppListSortedGrouped.csv\")"
   ],
   "metadata": {
    "collapsed": false
   }
  }
 ],
 "metadata": {
  "kernelspec": {
   "display_name": "Python 3",
   "language": "python",
   "name": "python3"
  },
  "language_info": {
   "codemirror_mode": {
    "name": "ipython",
    "version": 2
   },
   "file_extension": ".py",
   "mimetype": "text/x-python",
   "name": "python",
   "nbconvert_exporter": "python",
   "pygments_lexer": "ipython2",
   "version": "2.7.6"
  }
 },
 "nbformat": 4,
 "nbformat_minor": 0
}
